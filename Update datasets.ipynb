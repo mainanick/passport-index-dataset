{
 "cells": [
  {
   "cell_type": "markdown",
   "metadata": {},
   "source": [
    "# Generate Passport Index datasets\n",
    "* Data by Passport Index 2020: https://www.passportindex.org/\n",
    "* In both tidy and matrix formats\n",
    "* Using ISO-2, ISO-3, and full country names"
   ]
  },
  {
   "cell_type": "code",
   "execution_count": 1,
   "metadata": {},
   "outputs": [],
   "source": [
    "from bs4 import BeautifulSoup\n",
    "import requests\n",
    "import js2py\n",
    "import pandas as pd\n",
    "from itertools import permutations"
   ]
  },
  {
   "cell_type": "markdown",
   "metadata": {},
   "source": [
    "## Read PassportIndex page\n",
    "Use Beautiful Soup to extract JS with arrays containing data on visa free, visa on arrival, and eta."
   ]
  },
  {
   "cell_type": "code",
   "execution_count": 2,
   "metadata": {},
   "outputs": [],
   "source": [
    "source = requests.get('https://www.passportindex.org/comparebyPassport.php').content.decode('utf-8')"
   ]
  },
  {
   "cell_type": "code",
   "execution_count": 5,
   "metadata": {},
   "outputs": [],
   "source": [
    "soup = BeautifulSoup(source)\n",
    "\n",
    "for s in soup.findAll('script'):\n",
    "    if 'com_c_vf' in s.text:\n",
    "        script = 'function a() {' \\\n",
    "            + s.text + \\\n",
    "            '; return [\\\n",
    "                Object.keys(com_c_vf).map(function(z){return [z, com_c_vf[z]]}),\\\n",
    "                Object.keys(com_c_vf).map(function(z){return [z, com_c_voa[z]]}),\\\n",
    "                Object.keys(com_c_vf).map(function(z){return [z, com_c_eta[z]]}),\\\n",
    "                Object.keys(com_c_vf).map(function(z){return [z, so_vf[z]]}),\\\n",
    "            ]};a()'\n",
    "\n",
    "data = js2py.eval_js(script)"
   ]
  },
  {
   "cell_type": "code",
   "execution_count": 24,
   "metadata": {},
   "outputs": [],
   "source": [
    "so = {\n",
    "    '0': 'VF',\n",
    "    '1': 7,\n",
    "    '2': 14,\n",
    "    '3': 90,\n",
    "    '4': 28,\n",
    "    '5': 30,\n",
    "    '6': 180,\n",
    "    '7': 360,\n",
    "    '8': 31,\n",
    "    '9': '-',\n",
    "    '12': 60,\n",
    "    '13': 15,\n",
    "    '14': 120,\n",
    "    '15': 240,\n",
    "    '16:': 45,\n",
    "    '17': 21,\n",
    "    '18': 42,\n",
    "}"
   ]
  },
  {
   "cell_type": "markdown",
   "metadata": {},
   "source": [
    "## Begin data processing"
   ]
  },
  {
   "cell_type": "code",
   "execution_count": 6,
   "metadata": {},
   "outputs": [],
   "source": [
    "url = 'https://gist.githubusercontent.com/ilyankou/b2580c632bdea4af2309dcaa69860013/raw/420fb417bcd17d833156efdf64ce8a1c3ceb2691/country-codes'\n",
    "codes = pd.read_csv(url, dtype=str).fillna('NA').set_index('ISO2')\n",
    "\n",
    "def fix_iso2(x):\n",
    "    o = {\n",
    "        'UK': 'GB',\n",
    "        'RK': 'XK'\n",
    "    }\n",
    "    return o[x] if x in o else x"
   ]
  },
  {
   "cell_type": "code",
   "execution_count": 25,
   "metadata": {},
   "outputs": [],
   "source": [
    "multiindex = pd.MultiIndex.from_tuples(\n",
    "    list(permutations(codes.index, 2)), names=['Passport', 'Destination']\n",
    ")\n",
    "\n",
    "# By default, all countries need visas, so set all values to 0\n",
    "tidy_iso2 = pd.DataFrame(index=multiindex)\n",
    "tidy_iso2['Code'] = 'VR'\n",
    "\n",
    "# i=0 for visa free (so value of 3)\n",
    "# 1=1 for visa on arrival (value of 2)\n",
    "# i=2 for eta (value of 1)\n",
    "for i in range(3):\n",
    "    for j in range(len(data[i])):\n",
    "        passport = fix_iso2( data[i][j][0] ) # correct UK and Kosovo codes\n",
    "        countries = data[i][j][1].split(',')\n",
    "        \n",
    "        # For visa free, we put number of dates\n",
    "        if i == 0:\n",
    "            vf2days = data[3][j][1].split(',')\n",
    "            \n",
    "        for k in range(len(countries)):\n",
    "            country = countries[k]\n",
    "\n",
    "            if country == '':\n",
    "                continue\n",
    "                \n",
    "            country = fix_iso2(country)  # correct UK and Kosovo codes\n",
    "            \n",
    "            tidy_iso2.loc[(passport, country), 'Code'] = so[vf2days[k]] if i == 0 else 'ETA' if i == 1 else 'VOA'"
   ]
  },
  {
   "cell_type": "markdown",
   "metadata": {},
   "source": [
    "## Save ISO-2 files, both matrix and tidy"
   ]
  },
  {
   "cell_type": "code",
   "execution_count": 29,
   "metadata": {},
   "outputs": [],
   "source": [
    "tidy_iso2.to_csv('passport-index-tidy-iso2.csv')\n",
    "\n",
    "tidy_iso2.reset_index().pivot(columns='Destination', index='Passport', values='Code')\\\n",
    "    .fillna(-1).to_csv('passport-index-matrix-iso2.csv')"
   ]
  },
  {
   "cell_type": "markdown",
   "metadata": {},
   "source": [
    "## Translate ISO-2 into ISO-3 and save both datasets"
   ]
  },
  {
   "cell_type": "code",
   "execution_count": 30,
   "metadata": {},
   "outputs": [],
   "source": [
    "tidy_iso3 = tidy_iso2.copy(deep=True).reset_index()\n",
    "tidy_iso3['Passport'] = tidy_iso3['Passport'].apply(lambda x: codes.loc[x]['ISO3'])\n",
    "tidy_iso3['Destination'] = tidy_iso3['Destination'].apply(lambda x: codes.loc[x]['ISO3'])\n",
    "\n",
    "tidy_iso3.to_csv('passport-index-tidy-iso3.csv', index=False)\n",
    "tidy_iso3.reset_index().pivot(columns='Destination', index='Passport', values='Code')\\\n",
    "    .fillna(-1).to_csv('passport-index-matrix-iso3.csv')"
   ]
  },
  {
   "cell_type": "markdown",
   "metadata": {},
   "source": [
    "## Translate ISO-2 into ISO-3 and save both datasets"
   ]
  },
  {
   "cell_type": "code",
   "execution_count": 31,
   "metadata": {},
   "outputs": [],
   "source": [
    "tidy_names = tidy_iso2.copy(deep=True).reset_index()\n",
    "tidy_names['Passport'] = tidy_names['Passport'].apply(lambda x: codes.loc[x]['Country'])\n",
    "tidy_names['Destination'] = tidy_names['Destination'].apply(lambda x: codes.loc[x]['Country'])\n",
    "\n",
    "tidy_names.to_csv('passport-index-tidy.csv', index=False)\n",
    "tidy_names.reset_index().pivot(columns='Destination', index='Passport', values='Code')\\\n",
    "    .fillna(-1).to_csv('passport-index-matrix.csv')"
   ]
  },
  {
   "cell_type": "code",
   "execution_count": null,
   "metadata": {},
   "outputs": [],
   "source": []
  },
  {
   "cell_type": "code",
   "execution_count": null,
   "metadata": {},
   "outputs": [],
   "source": []
  }
 ],
 "metadata": {
  "kernelspec": {
   "display_name": "Python 3",
   "language": "python",
   "name": "python3"
  },
  "language_info": {
   "codemirror_mode": {
    "name": "ipython",
    "version": 3
   },
   "file_extension": ".py",
   "mimetype": "text/x-python",
   "name": "python",
   "nbconvert_exporter": "python",
   "pygments_lexer": "ipython3",
   "version": "3.7.3"
  }
 },
 "nbformat": 4,
 "nbformat_minor": 4
}
